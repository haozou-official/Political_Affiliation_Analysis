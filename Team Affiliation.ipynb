{
 "cells": [
  {
   "cell_type": "code",
   "execution_count": 3,
   "metadata": {},
   "outputs": [
    {
     "data": {
      "text/html": [
       "<div>\n",
       "<style scoped>\n",
       "    .dataframe tbody tr th:only-of-type {\n",
       "        vertical-align: middle;\n",
       "    }\n",
       "\n",
       "    .dataframe tbody tr th {\n",
       "        vertical-align: top;\n",
       "    }\n",
       "\n",
       "    .dataframe thead th {\n",
       "        text-align: right;\n",
       "    }\n",
       "</style>\n",
       "<table border=\"1\" class=\"dataframe\">\n",
       "  <thead>\n",
       "    <tr style=\"text-align: right;\">\n",
       "      <th></th>\n",
       "      <th>Unnamed: 0</th>\n",
       "      <th>converted_utc_time</th>\n",
       "      <th>truncated</th>\n",
       "      <th>user_follower_count</th>\n",
       "      <th>user_friend_count</th>\n",
       "      <th>user_id</th>\n",
       "      <th>user_location</th>\n",
       "      <th>user_name</th>\n",
       "      <th>tweet_text_full</th>\n",
       "      <th>UID</th>\n",
       "      <th>players followed</th>\n",
       "      <th>team followed</th>\n",
       "      <th>NE_patriots key player present</th>\n",
       "      <th>LA_Rams key player present</th>\n",
       "      <th>team_affiliation_superfollowers</th>\n",
       "    </tr>\n",
       "  </thead>\n",
       "  <tbody>\n",
       "    <tr>\n",
       "      <th>0</th>\n",
       "      <td>1000031369823735808</td>\n",
       "      <td>2019-02-03 21:25:05</td>\n",
       "      <td>False</td>\n",
       "      <td>431</td>\n",
       "      <td>1001</td>\n",
       "      <td>1000031369823735808</td>\n",
       "      <td>ATL</td>\n",
       "      <td>Lauren</td>\n",
       "      <td>RT @OfcrMatt: Who wants some free swag?\\r\\n\\r\\...</td>\n",
       "      <td>1000031369823735808</td>\n",
       "      <td>toddgurley sonymichel</td>\n",
       "      <td>both</td>\n",
       "      <td>False</td>\n",
       "      <td>True</td>\n",
       "      <td>la_rams</td>\n",
       "    </tr>\n",
       "    <tr>\n",
       "      <th>1</th>\n",
       "      <td>1000062082560282624</td>\n",
       "      <td>2019-02-03 19:04:48</td>\n",
       "      <td>False</td>\n",
       "      <td>67</td>\n",
       "      <td>680</td>\n",
       "      <td>1000062082560282624</td>\n",
       "      <td>Boston, MA</td>\n",
       "      <td>Options Owl</td>\n",
       "      <td>RT @NFL_Memes: Still more exciting than watchi...</td>\n",
       "      <td>1000062082560282624</td>\n",
       "      <td>patriots tombrady</td>\n",
       "      <td>ne_patriots</td>\n",
       "      <td>True</td>\n",
       "      <td>False</td>\n",
       "      <td>ne_patriots</td>\n",
       "    </tr>\n",
       "    <tr>\n",
       "      <th>2</th>\n",
       "      <td>1000069917423489024</td>\n",
       "      <td>2019-02-03 19:15:27</td>\n",
       "      <td>False</td>\n",
       "      <td>112</td>\n",
       "      <td>225</td>\n",
       "      <td>1000069917423489024</td>\n",
       "      <td>Virgin Islands, USA</td>\n",
       "      <td>Ra’s al Ghul ὓ1</td>\n",
       "      <td>RT @P2: Super Bowl commercial debut. Such a bl...</td>\n",
       "      <td>1000069917423489024</td>\n",
       "      <td>aarondonald</td>\n",
       "      <td>la_rams</td>\n",
       "      <td>False</td>\n",
       "      <td>False</td>\n",
       "      <td>la_rams</td>\n",
       "    </tr>\n",
       "    <tr>\n",
       "      <th>3</th>\n",
       "      <td>1000069917423489024</td>\n",
       "      <td>2019-02-03 20:49:02</td>\n",
       "      <td>False</td>\n",
       "      <td>112</td>\n",
       "      <td>225</td>\n",
       "      <td>1000069917423489024</td>\n",
       "      <td>Virgin Islands, USA</td>\n",
       "      <td>Ra’s al Ghul ὓ1</td>\n",
       "      <td>RT @MoveTheSticks: If NE wins, Edelman is the ...</td>\n",
       "      <td>1000069917423489024</td>\n",
       "      <td>aarondonald</td>\n",
       "      <td>la_rams</td>\n",
       "      <td>False</td>\n",
       "      <td>False</td>\n",
       "      <td>la_rams</td>\n",
       "    </tr>\n",
       "    <tr>\n",
       "      <th>4</th>\n",
       "      <td>1000069917423489024</td>\n",
       "      <td>2019-02-03 20:46:54</td>\n",
       "      <td>False</td>\n",
       "      <td>112</td>\n",
       "      <td>225</td>\n",
       "      <td>1000069917423489024</td>\n",
       "      <td>Virgin Islands, USA</td>\n",
       "      <td>Ra’s al Ghul ὓ1</td>\n",
       "      <td>RT @espn: INTERCEPTION!\\r\\n\\r\\nThe Patriots ar...</td>\n",
       "      <td>1000069917423489024</td>\n",
       "      <td>aarondonald</td>\n",
       "      <td>la_rams</td>\n",
       "      <td>False</td>\n",
       "      <td>False</td>\n",
       "      <td>la_rams</td>\n",
       "    </tr>\n",
       "  </tbody>\n",
       "</table>\n",
       "</div>"
      ],
      "text/plain": [
       "            Unnamed: 0   converted_utc_time  truncated  user_follower_count  \\\n",
       "0  1000031369823735808  2019-02-03 21:25:05      False                  431   \n",
       "1  1000062082560282624  2019-02-03 19:04:48      False                   67   \n",
       "2  1000069917423489024  2019-02-03 19:15:27      False                  112   \n",
       "3  1000069917423489024  2019-02-03 20:49:02      False                  112   \n",
       "4  1000069917423489024  2019-02-03 20:46:54      False                  112   \n",
       "\n",
       "   user_friend_count              user_id        user_location  \\\n",
       "0               1001  1000031369823735808                 ATL    \n",
       "1                680  1000062082560282624           Boston, MA   \n",
       "2                225  1000069917423489024  Virgin Islands, USA   \n",
       "3                225  1000069917423489024  Virgin Islands, USA   \n",
       "4                225  1000069917423489024  Virgin Islands, USA   \n",
       "\n",
       "         user_name                                    tweet_text_full  \\\n",
       "0           Lauren  RT @OfcrMatt: Who wants some free swag?\\r\\n\\r\\...   \n",
       "1      Options Owl  RT @NFL_Memes: Still more exciting than watchi...   \n",
       "2  Ra’s al Ghul ὓ1  RT @P2: Super Bowl commercial debut. Such a bl...   \n",
       "3  Ra’s al Ghul ὓ1  RT @MoveTheSticks: If NE wins, Edelman is the ...   \n",
       "4  Ra’s al Ghul ὓ1  RT @espn: INTERCEPTION!\\r\\n\\r\\nThe Patriots ar...   \n",
       "\n",
       "                   UID       players followed team followed  \\\n",
       "0  1000031369823735808  toddgurley sonymichel          both   \n",
       "1  1000062082560282624      patriots tombrady   ne_patriots   \n",
       "2  1000069917423489024            aarondonald       la_rams   \n",
       "3  1000069917423489024            aarondonald       la_rams   \n",
       "4  1000069917423489024            aarondonald       la_rams   \n",
       "\n",
       "   NE_patriots key player present  LA_Rams key player present  \\\n",
       "0                           False                        True   \n",
       "1                            True                       False   \n",
       "2                           False                       False   \n",
       "3                           False                       False   \n",
       "4                           False                       False   \n",
       "\n",
       "  team_affiliation_superfollowers  \n",
       "0                         la_rams  \n",
       "1                     ne_patriots  \n",
       "2                         la_rams  \n",
       "3                         la_rams  \n",
       "4                         la_rams  "
      ]
     },
     "execution_count": 3,
     "metadata": {},
     "output_type": "execute_result"
    }
   ],
   "source": [
    "df = pd.read_csv('merged_follower_affiliation.csv')\n",
    "df.head()"
   ]
  },
  {
   "cell_type": "code",
   "execution_count": 8,
   "metadata": {},
   "outputs": [
    {
     "data": {
      "text/html": [
       "<div>\n",
       "<style scoped>\n",
       "    .dataframe tbody tr th:only-of-type {\n",
       "        vertical-align: middle;\n",
       "    }\n",
       "\n",
       "    .dataframe tbody tr th {\n",
       "        vertical-align: top;\n",
       "    }\n",
       "\n",
       "    .dataframe thead th {\n",
       "        text-align: right;\n",
       "    }\n",
       "</style>\n",
       "<table border=\"1\" class=\"dataframe\">\n",
       "  <thead>\n",
       "    <tr style=\"text-align: right;\">\n",
       "      <th></th>\n",
       "      <th>user_name</th>\n",
       "      <th>tweet_text_full</th>\n",
       "      <th>team_affiliation_superfollowers</th>\n",
       "    </tr>\n",
       "  </thead>\n",
       "  <tbody>\n",
       "    <tr>\n",
       "      <th>0</th>\n",
       "      <td>Lauren</td>\n",
       "      <td>RT @OfcrMatt: Who wants some free swag?\\r\\n\\r\\...</td>\n",
       "      <td>la_rams</td>\n",
       "    </tr>\n",
       "    <tr>\n",
       "      <th>1</th>\n",
       "      <td>Options Owl</td>\n",
       "      <td>RT @NFL_Memes: Still more exciting than watchi...</td>\n",
       "      <td>ne_patriots</td>\n",
       "    </tr>\n",
       "    <tr>\n",
       "      <th>2</th>\n",
       "      <td>Ra’s al Ghul ὓ1</td>\n",
       "      <td>RT @P2: Super Bowl commercial debut. Such a bl...</td>\n",
       "      <td>la_rams</td>\n",
       "    </tr>\n",
       "    <tr>\n",
       "      <th>3</th>\n",
       "      <td>Ra’s al Ghul ὓ1</td>\n",
       "      <td>RT @MoveTheSticks: If NE wins, Edelman is the ...</td>\n",
       "      <td>la_rams</td>\n",
       "    </tr>\n",
       "    <tr>\n",
       "      <th>4</th>\n",
       "      <td>Ra’s al Ghul ὓ1</td>\n",
       "      <td>RT @espn: INTERCEPTION!\\r\\n\\r\\nThe Patriots ar...</td>\n",
       "      <td>la_rams</td>\n",
       "    </tr>\n",
       "  </tbody>\n",
       "</table>\n",
       "</div>"
      ],
      "text/plain": [
       "         user_name                                    tweet_text_full  \\\n",
       "0           Lauren  RT @OfcrMatt: Who wants some free swag?\\r\\n\\r\\...   \n",
       "1      Options Owl  RT @NFL_Memes: Still more exciting than watchi...   \n",
       "2  Ra’s al Ghul ὓ1  RT @P2: Super Bowl commercial debut. Such a bl...   \n",
       "3  Ra’s al Ghul ὓ1  RT @MoveTheSticks: If NE wins, Edelman is the ...   \n",
       "4  Ra’s al Ghul ὓ1  RT @espn: INTERCEPTION!\\r\\n\\r\\nThe Patriots ar...   \n",
       "\n",
       "  team_affiliation_superfollowers  \n",
       "0                         la_rams  \n",
       "1                     ne_patriots  \n",
       "2                         la_rams  \n",
       "3                         la_rams  \n",
       "4                         la_rams  "
      ]
     },
     "execution_count": 8,
     "metadata": {},
     "output_type": "execute_result"
    }
   ],
   "source": [
    "df = pd.read_csv('merged_follower_affiliation.csv', usecols=['user_name', 'tweet_text_full', 'team_affiliation_superfollowers'])\n",
    "df.head()"
   ]
  },
  {
   "cell_type": "code",
   "execution_count": 2,
   "metadata": {},
   "outputs": [
    {
     "data": {
      "text/html": [
       "<div>\n",
       "<style scoped>\n",
       "    .dataframe tbody tr th:only-of-type {\n",
       "        vertical-align: middle;\n",
       "    }\n",
       "\n",
       "    .dataframe tbody tr th {\n",
       "        vertical-align: top;\n",
       "    }\n",
       "\n",
       "    .dataframe thead th {\n",
       "        text-align: right;\n",
       "    }\n",
       "</style>\n",
       "<table border=\"1\" class=\"dataframe\">\n",
       "  <thead>\n",
       "    <tr style=\"text-align: right;\">\n",
       "      <th></th>\n",
       "      <th>tweet_text_full</th>\n",
       "    </tr>\n",
       "  </thead>\n",
       "  <tbody>\n",
       "    <tr>\n",
       "      <th>0</th>\n",
       "      <td>RT @OfcrMatt: Who wants some free swag?\\r\\n\\r\\...</td>\n",
       "    </tr>\n",
       "    <tr>\n",
       "      <th>1</th>\n",
       "      <td>RT @NFL_Memes: Still more exciting than watchi...</td>\n",
       "    </tr>\n",
       "    <tr>\n",
       "      <th>2</th>\n",
       "      <td>RT @P2: Super Bowl commercial debut. Such a bl...</td>\n",
       "    </tr>\n",
       "    <tr>\n",
       "      <th>3</th>\n",
       "      <td>RT @MoveTheSticks: If NE wins, Edelman is the ...</td>\n",
       "    </tr>\n",
       "    <tr>\n",
       "      <th>4</th>\n",
       "      <td>RT @espn: INTERCEPTION!\\r\\n\\r\\nThe Patriots ar...</td>\n",
       "    </tr>\n",
       "  </tbody>\n",
       "</table>\n",
       "</div>"
      ],
      "text/plain": [
       "                                     tweet_text_full\n",
       "0  RT @OfcrMatt: Who wants some free swag?\\r\\n\\r\\...\n",
       "1  RT @NFL_Memes: Still more exciting than watchi...\n",
       "2  RT @P2: Super Bowl commercial debut. Such a bl...\n",
       "3  RT @MoveTheSticks: If NE wins, Edelman is the ...\n",
       "4  RT @espn: INTERCEPTION!\\r\\n\\r\\nThe Patriots ar..."
      ]
     },
     "execution_count": 2,
     "metadata": {},
     "output_type": "execute_result"
    }
   ],
   "source": [
    "df1 = pd.read_csv('merged_follower_affiliation.csv', usecols=['tweet_text_full'])\n",
    "df1.head()"
   ]
  },
  {
   "cell_type": "code",
   "execution_count": 2,
   "metadata": {},
   "outputs": [],
   "source": [
    "import re\n",
    "import pandas as pd\n",
    "import numpy as np\n",
    "from scipy import sparse\n",
    "from sklearn.metrics.pairwise import cosine_similarity\n",
    "from umap import UMAP\n",
    "from sklearn.preprocessing import MinMaxScaler\n",
    "from sklearn.cluster import MeanShift"
   ]
  },
  {
   "cell_type": "code",
   "execution_count": 4,
   "metadata": {},
   "outputs": [],
   "source": [
    "def extract_rt(text):\n",
    "    try:\n",
    "        m = re.match(r'^RT:? +@(.*?):', text)\n",
    "        if m:\n",
    "            return m.group(1).lower()\n",
    "        return np.nan\n",
    "    except:\n",
    "        return np.nan\n",
    "\n",
    "\n",
    "class Enumerator:\n",
    "    def __init__(self):\n",
    "        self.i = 0\n",
    "        self.dict = dict()\n",
    "\n",
    "    def __getitem__(self, item):\n",
    "        if item not in self.dict:\n",
    "            save = self.i\n",
    "            self.dict[item] = self.i\n",
    "            self.i += 1\n",
    "            return save\n",
    "        return self.dict[item]\n",
    "\n",
    "    def __contains__(self, value):\n",
    "        return value in self.dict"
   ]
  },
  {
   "cell_type": "code",
   "execution_count": 5,
   "metadata": {},
   "outputs": [],
   "source": [
    "df = pd.read_csv('merged_follower_affiliation.csv', usecols=['user_name', 'tweet_text_full'])"
   ]
  },
  {
   "cell_type": "code",
   "execution_count": 6,
   "metadata": {},
   "outputs": [
    {
     "data": {
      "text/html": [
       "<div>\n",
       "<style scoped>\n",
       "    .dataframe tbody tr th:only-of-type {\n",
       "        vertical-align: middle;\n",
       "    }\n",
       "\n",
       "    .dataframe tbody tr th {\n",
       "        vertical-align: top;\n",
       "    }\n",
       "\n",
       "    .dataframe thead th {\n",
       "        text-align: right;\n",
       "    }\n",
       "</style>\n",
       "<table border=\"1\" class=\"dataframe\">\n",
       "  <thead>\n",
       "    <tr style=\"text-align: right;\">\n",
       "      <th></th>\n",
       "      <th>user_name</th>\n",
       "      <th>tweet_text_full</th>\n",
       "    </tr>\n",
       "  </thead>\n",
       "  <tbody>\n",
       "    <tr>\n",
       "      <th>0</th>\n",
       "      <td>Lauren</td>\n",
       "      <td>RT @OfcrMatt: Who wants some free swag?\\r\\n\\r\\...</td>\n",
       "    </tr>\n",
       "    <tr>\n",
       "      <th>1</th>\n",
       "      <td>Options Owl</td>\n",
       "      <td>RT @NFL_Memes: Still more exciting than watchi...</td>\n",
       "    </tr>\n",
       "    <tr>\n",
       "      <th>2</th>\n",
       "      <td>Ra’s al Ghul ὓ1</td>\n",
       "      <td>RT @P2: Super Bowl commercial debut. Such a bl...</td>\n",
       "    </tr>\n",
       "    <tr>\n",
       "      <th>3</th>\n",
       "      <td>Ra’s al Ghul ὓ1</td>\n",
       "      <td>RT @MoveTheSticks: If NE wins, Edelman is the ...</td>\n",
       "    </tr>\n",
       "    <tr>\n",
       "      <th>4</th>\n",
       "      <td>Ra’s al Ghul ὓ1</td>\n",
       "      <td>RT @espn: INTERCEPTION!\\r\\n\\r\\nThe Patriots ar...</td>\n",
       "    </tr>\n",
       "  </tbody>\n",
       "</table>\n",
       "</div>"
      ],
      "text/plain": [
       "         user_name                                    tweet_text_full\n",
       "0           Lauren  RT @OfcrMatt: Who wants some free swag?\\r\\n\\r\\...\n",
       "1      Options Owl  RT @NFL_Memes: Still more exciting than watchi...\n",
       "2  Ra’s al Ghul ὓ1  RT @P2: Super Bowl commercial debut. Such a bl...\n",
       "3  Ra’s al Ghul ὓ1  RT @MoveTheSticks: If NE wins, Edelman is the ...\n",
       "4  Ra’s al Ghul ὓ1  RT @espn: INTERCEPTION!\\r\\n\\r\\nThe Patriots ar..."
      ]
     },
     "execution_count": 6,
     "metadata": {},
     "output_type": "execute_result"
    }
   ],
   "source": [
    "df.head()"
   ]
  },
  {
   "cell_type": "code",
   "execution_count": 5,
   "metadata": {},
   "outputs": [],
   "source": [
    "df.to_csv('new_merged_follower_affiliation.csv', header=None, index=False)"
   ]
  },
  {
   "cell_type": "code",
   "execution_count": 10,
   "metadata": {},
   "outputs": [],
   "source": [
    "df_text = pd.read_csv('new_merged_follower_affiliation.csv', header=None, error_bad_lines=False)\n",
    "df_text.columns = ['User', 'Text']\n",
    "df_text = df_text.apply(lambda s: s.str.strip())\n",
    "df_text.loc[:, 'User'] = df_text.User.str.lower()"
   ]
  },
  {
   "cell_type": "code",
   "execution_count": 11,
   "metadata": {},
   "outputs": [],
   "source": [
    "# Extract retweeted accounts and work only with those rows\n",
    "df_text['Retweet'] = df_text.Text.apply(extract_rt)\n",
    "df_text.dropna(subset=['Retweet'], inplace=True)"
   ]
  },
  {
   "cell_type": "code",
   "execution_count": 12,
   "metadata": {},
   "outputs": [
    {
     "data": {
      "text/html": [
       "<div>\n",
       "<style scoped>\n",
       "    .dataframe tbody tr th:only-of-type {\n",
       "        vertical-align: middle;\n",
       "    }\n",
       "\n",
       "    .dataframe tbody tr th {\n",
       "        vertical-align: top;\n",
       "    }\n",
       "\n",
       "    .dataframe thead th {\n",
       "        text-align: right;\n",
       "    }\n",
       "</style>\n",
       "<table border=\"1\" class=\"dataframe\">\n",
       "  <thead>\n",
       "    <tr style=\"text-align: right;\">\n",
       "      <th></th>\n",
       "      <th>User</th>\n",
       "      <th>Text</th>\n",
       "      <th>Retweet</th>\n",
       "    </tr>\n",
       "  </thead>\n",
       "  <tbody>\n",
       "    <tr>\n",
       "      <th>0</th>\n",
       "      <td>lauren</td>\n",
       "      <td>RT @OfcrMatt: Who wants some free swag?\\r\\n\\r\\...</td>\n",
       "      <td>ofcrmatt</td>\n",
       "    </tr>\n",
       "    <tr>\n",
       "      <th>1</th>\n",
       "      <td>options owl</td>\n",
       "      <td>RT @NFL_Memes: Still more exciting than watchi...</td>\n",
       "      <td>nfl_memes</td>\n",
       "    </tr>\n",
       "    <tr>\n",
       "      <th>2</th>\n",
       "      <td>ra’s al ghul ὓ1</td>\n",
       "      <td>RT @P2: Super Bowl commercial debut. Such a bl...</td>\n",
       "      <td>p2</td>\n",
       "    </tr>\n",
       "    <tr>\n",
       "      <th>3</th>\n",
       "      <td>ra’s al ghul ὓ1</td>\n",
       "      <td>RT @MoveTheSticks: If NE wins, Edelman is the ...</td>\n",
       "      <td>movethesticks</td>\n",
       "    </tr>\n",
       "    <tr>\n",
       "      <th>4</th>\n",
       "      <td>ra’s al ghul ὓ1</td>\n",
       "      <td>RT @espn: INTERCEPTION!\\r\\n\\r\\nThe Patriots ar...</td>\n",
       "      <td>espn</td>\n",
       "    </tr>\n",
       "  </tbody>\n",
       "</table>\n",
       "</div>"
      ],
      "text/plain": [
       "              User                                               Text  \\\n",
       "0           lauren  RT @OfcrMatt: Who wants some free swag?\\r\\n\\r\\...   \n",
       "1      options owl  RT @NFL_Memes: Still more exciting than watchi...   \n",
       "2  ra’s al ghul ὓ1  RT @P2: Super Bowl commercial debut. Such a bl...   \n",
       "3  ra’s al ghul ὓ1  RT @MoveTheSticks: If NE wins, Edelman is the ...   \n",
       "4  ra’s al ghul ὓ1  RT @espn: INTERCEPTION!\\r\\n\\r\\nThe Patriots ar...   \n",
       "\n",
       "         Retweet  \n",
       "0       ofcrmatt  \n",
       "1      nfl_memes  \n",
       "2             p2  \n",
       "3  movethesticks  \n",
       "4           espn  "
      ]
     },
     "execution_count": 12,
     "metadata": {},
     "output_type": "execute_result"
    }
   ],
   "source": [
    "df_text.head()"
   ]
  },
  {
   "cell_type": "code",
   "execution_count": 9,
   "metadata": {},
   "outputs": [
    {
     "name": "stdout",
     "output_type": "stream",
     "text": [
      "Number of Retweets: 90250\n",
      "Number of unique users after filtering only Retweets: 52065\n"
     ]
    }
   ],
   "source": [
    "print(f\"Number of Retweets: {len(df_text)}\")\n",
    "print(f\"Number of unique users after filtering only Retweets: {df_text.User.nunique()}\")"
   ]
  },
  {
   "cell_type": "code",
   "execution_count": 27,
   "metadata": {},
   "outputs": [],
   "source": [
    "# Sample users\n",
    "min_nunique_retweet = 5\n",
    "sample_size = 5000"
   ]
  },
  {
   "cell_type": "code",
   "execution_count": 28,
   "metadata": {},
   "outputs": [],
   "source": [
    "users_of_interest = df_text.groupby('User')['Retweet'].nunique() \\\n",
    "    .where(lambda x: x >= min_nunique_retweet).dropna() \\\n",
    "    .sort_values(ascending=False).head(n=sample_size)"
   ]
  },
  {
   "cell_type": "code",
   "execution_count": 29,
   "metadata": {},
   "outputs": [],
   "source": [
    "# Filter df_text to have only the Tweets of the sampled users\n",
    "df_text = df_text[df_text.User.isin(users_of_interest.index)]"
   ]
  },
  {
   "cell_type": "code",
   "execution_count": 13,
   "metadata": {},
   "outputs": [],
   "source": [
    "# Calculate similarity\n",
    "user_feature_counts = df_text.groupby(['User', 'Retweet']).size()\n",
    "user2idx = Enumerator()\n",
    "feature2idx = Enumerator()"
   ]
  },
  {
   "cell_type": "code",
   "execution_count": 14,
   "metadata": {},
   "outputs": [],
   "source": [
    "row_ind = []\n",
    "col_ind = []\n",
    "data = []\n",
    "for (user, feature), count in user_feature_counts.items():\n",
    "    row_i = user2idx[user]\n",
    "    col_i = feature2idx[feature]\n",
    "    row_ind.append(row_i)\n",
    "    col_ind.append(col_i)\n",
    "    data.append(count)"
   ]
  },
  {
   "cell_type": "code",
   "execution_count": 15,
   "metadata": {},
   "outputs": [],
   "source": [
    "user_feature_matrix = sparse.csr_matrix((data, (row_ind, col_ind)))\n",
    "user2user_sim = cosine_similarity(user_feature_matrix).clip(max=1.0) # clip, because sometimes get values like 1.0000000014"
   ]
  },
  {
   "cell_type": "code",
   "execution_count": 16,
   "metadata": {},
   "outputs": [
    {
     "name": "stderr",
     "output_type": "stream",
     "text": [
      "/home/zou00080/anaconda3/envs/dl/lib/python3.7/site-packages/umap/umap_.py:1504: UserWarning: using precomputed metric; transform will be unavailable for new data and inverse_transform will be unavailable for all data\n",
      "  \"using precomputed metric; transform will be unavailable for new data and inverse_transform \"\n"
     ]
    }
   ],
   "source": [
    "# Dimentionality reduction\n",
    "user_points = UMAP(metric='precomputed').fit_transform(1 - user2user_sim) # works with distances, NOT similarity\n",
    "\n",
    "# Scale user vectors between -1 and 1\n",
    "scaler = MinMaxScaler(feature_range=(-1, 1))\n",
    "user_points_scaled = scaler.fit_transform(user_points)\n",
    "\n",
    "idx2user = {v:k for k, v in user2idx.dict.items()}\n",
    "df_user = pd.DataFrame(user_points_scaled, index=map(idx2user.get, range(len(user_points_scaled))))"
   ]
  },
  {
   "cell_type": "code",
   "execution_count": 17,
   "metadata": {},
   "outputs": [],
   "source": [
    "# Clustering\n",
    "clusters = MeanShift(cluster_all=False, bin_seeding=True).fit(df_user.values)\n",
    "df_user['cluster_id'] = clusters.labels_"
   ]
  },
  {
   "cell_type": "code",
   "execution_count": 18,
   "metadata": {},
   "outputs": [],
   "source": [
    "# Regard users in very small clusters as unclustered\n",
    "for c in df_user['cluster_id'].unique():\n",
    "    if c == -1:\n",
    "        continue\n",
    "    if len(df_user[df_user['cluster_id'] == c]) < len(df_user[df_user['cluster_id'] != -1]) * 0.01:\n",
    "        df_user.loc[df_user['cluster_id'] == c, 'cluster_id'] = -1"
   ]
  },
  {
   "cell_type": "code",
   "execution_count": 19,
   "metadata": {},
   "outputs": [
    {
     "data": {
      "text/html": [
       "<div>\n",
       "<style scoped>\n",
       "    .dataframe tbody tr th:only-of-type {\n",
       "        vertical-align: middle;\n",
       "    }\n",
       "\n",
       "    .dataframe tbody tr th {\n",
       "        vertical-align: top;\n",
       "    }\n",
       "\n",
       "    .dataframe thead th {\n",
       "        text-align: right;\n",
       "    }\n",
       "</style>\n",
       "<table border=\"1\" class=\"dataframe\">\n",
       "  <thead>\n",
       "    <tr style=\"text-align: right;\">\n",
       "      <th></th>\n",
       "      <th>0</th>\n",
       "      <th>1</th>\n",
       "      <th>cluster_id</th>\n",
       "    </tr>\n",
       "  </thead>\n",
       "  <tbody>\n",
       "    <tr>\n",
       "      <th>\"rowdy\"</th>\n",
       "      <td>0.709300</td>\n",
       "      <td>-0.507072</td>\n",
       "      <td>-1</td>\n",
       "    </tr>\n",
       "    <tr>\n",
       "      <th>#allincle #allforone</th>\n",
       "      <td>-0.750664</td>\n",
       "      <td>-0.368673</td>\n",
       "      <td>-1</td>\n",
       "    </tr>\n",
       "    <tr>\n",
       "      <th>#balorclub</th>\n",
       "      <td>0.132771</td>\n",
       "      <td>0.470690</td>\n",
       "      <td>-1</td>\n",
       "    </tr>\n",
       "    <tr>\n",
       "      <th>#beatla</th>\n",
       "      <td>0.226581</td>\n",
       "      <td>-0.595684</td>\n",
       "      <td>0</td>\n",
       "    </tr>\n",
       "    <tr>\n",
       "      <th>#boycottthenfl</th>\n",
       "      <td>-0.090955</td>\n",
       "      <td>0.242821</td>\n",
       "      <td>0</td>\n",
       "    </tr>\n",
       "  </tbody>\n",
       "</table>\n",
       "</div>"
      ],
      "text/plain": [
       "                             0         1  cluster_id\n",
       "\"rowdy\"               0.709300 -0.507072          -1\n",
       "#allincle #allforone -0.750664 -0.368673          -1\n",
       "#balorclub            0.132771  0.470690          -1\n",
       "#beatla               0.226581 -0.595684           0\n",
       "#boycottthenfl       -0.090955  0.242821           0"
      ]
     },
     "execution_count": 19,
     "metadata": {},
     "output_type": "execute_result"
    }
   ],
   "source": [
    "df_user.head()"
   ]
  },
  {
   "cell_type": "code",
   "execution_count": 20,
   "metadata": {},
   "outputs": [],
   "source": [
    "# Generate output\n",
    "# cluser ID of -1 means the item was not clustered\n",
    "df_user[df_user.cluster_id != -1].to_csv('active_users.csv')"
   ]
  },
  {
   "cell_type": "code",
   "execution_count": 7,
   "metadata": {},
   "outputs": [
    {
     "data": {
      "text/html": [
       "<div>\n",
       "<style scoped>\n",
       "    .dataframe tbody tr th:only-of-type {\n",
       "        vertical-align: middle;\n",
       "    }\n",
       "\n",
       "    .dataframe tbody tr th {\n",
       "        vertical-align: top;\n",
       "    }\n",
       "\n",
       "    .dataframe thead th {\n",
       "        text-align: right;\n",
       "    }\n",
       "</style>\n",
       "<table border=\"1\" class=\"dataframe\">\n",
       "  <thead>\n",
       "    <tr style=\"text-align: right;\">\n",
       "      <th></th>\n",
       "      <th>Unnamed: 0</th>\n",
       "      <th>0</th>\n",
       "      <th>1</th>\n",
       "      <th>cluster_id</th>\n",
       "    </tr>\n",
       "  </thead>\n",
       "  <tbody>\n",
       "    <tr>\n",
       "      <th>0</th>\n",
       "      <td>#beatla</td>\n",
       "      <td>0.226581</td>\n",
       "      <td>-0.595684</td>\n",
       "      <td>0</td>\n",
       "    </tr>\n",
       "    <tr>\n",
       "      <th>1</th>\n",
       "      <td>#boycottthenfl</td>\n",
       "      <td>-0.090955</td>\n",
       "      <td>0.242821</td>\n",
       "      <td>0</td>\n",
       "    </tr>\n",
       "    <tr>\n",
       "      <th>2</th>\n",
       "      <td>#dukenation 19-2</td>\n",
       "      <td>0.016345</td>\n",
       "      <td>0.329817</td>\n",
       "      <td>0</td>\n",
       "    </tr>\n",
       "    <tr>\n",
       "      <th>3</th>\n",
       "      <td>#everythingwegot</td>\n",
       "      <td>0.356937</td>\n",
       "      <td>-0.375891</td>\n",
       "      <td>0</td>\n",
       "    </tr>\n",
       "    <tr>\n",
       "      <th>4</th>\n",
       "      <td>#flyeaglesfly</td>\n",
       "      <td>-0.110235</td>\n",
       "      <td>0.447484</td>\n",
       "      <td>0</td>\n",
       "    </tr>\n",
       "  </tbody>\n",
       "</table>\n",
       "</div>"
      ],
      "text/plain": [
       "         Unnamed: 0         0         1  cluster_id\n",
       "0           #beatla  0.226581 -0.595684           0\n",
       "1    #boycottthenfl -0.090955  0.242821           0\n",
       "2  #dukenation 19-2  0.016345  0.329817           0\n",
       "3  #everythingwegot  0.356937 -0.375891           0\n",
       "4     #flyeaglesfly -0.110235  0.447484           0"
      ]
     },
     "execution_count": 7,
     "metadata": {},
     "output_type": "execute_result"
    }
   ],
   "source": [
    "active_users = pd.read_csv('active_users.csv')\n",
    "active_users.head() #coordinates on 2D plane\n",
    "# only able to classify the most vocal users"
   ]
  },
  {
   "cell_type": "code",
   "execution_count": 22,
   "metadata": {},
   "outputs": [],
   "source": [
    "import matplotlib.pyplot as plt\n",
    "%matplotlib inline\n",
    "import numpy as np\n",
    "from sklearn.cluster import KMeans"
   ]
  },
  {
   "cell_type": "code",
   "execution_count": 23,
   "metadata": {},
   "outputs": [],
   "source": [
    "X0 = pd.read_csv('active_users.csv', usecols=[1])"
   ]
  },
  {
   "cell_type": "code",
   "execution_count": 24,
   "metadata": {},
   "outputs": [],
   "source": [
    "X1 = pd.read_csv('active_users.csv', usecols=[2])"
   ]
  },
  {
   "cell_type": "code",
   "execution_count": 25,
   "metadata": {},
   "outputs": [
    {
     "data": {
      "text/plain": [
       "<matplotlib.collections.PathCollection at 0x7ff528701d50>"
      ]
     },
     "execution_count": 25,
     "metadata": {},
     "output_type": "execute_result"
    },
    {
     "data": {
      "image/png": "[encoded data removed]",
      "text/plain": [
       "<Figure size 432x288 with 1 Axes>"
      ]
     },
     "metadata": {
      "needs_background": "light"
     },
     "output_type": "display_data"
    }
   ],
   "source": [
    "plt.scatter(X0, X1, cmap='rainbow')"
   ]
  },
  {
   "cell_type": "code",
   "execution_count": 26,
   "metadata": {},
   "outputs": [
    {
     "data": {
      "text/plain": [
       "1060"
      ]
     },
     "execution_count": 26,
     "metadata": {},
     "output_type": "execute_result"
    }
   ],
   "source": [
    "X = pd.read_csv('active_users.csv')\n",
    "clustered_users = X.shape[0]\n",
    "clustered_users"
   ]
  },
  {
   "cell_type": "code",
   "execution_count": 27,
   "metadata": {},
   "outputs": [],
   "source": [
    "df_user.to_csv('whole_users.csv')"
   ]
  },
  {
   "cell_type": "code",
   "execution_count": 30,
   "metadata": {},
   "outputs": [
    {
     "data": {
      "text/plain": [
       "<matplotlib.collections.PathCollection at 0x7fb274a28550>"
      ]
     },
     "execution_count": 30,
     "metadata": {},
     "output_type": "execute_result"
    },
    {
     "data": {
      "image/png": "[encoded data removed]",
      "text/plain": [
       "<Figure size 432x288 with 1 Axes>"
      ]
     },
     "metadata": {
      "needs_background": "light"
     },
     "output_type": "display_data"
    }
   ],
   "source": [
    "X_0 = pd.read_csv('whole_users.csv', usecols=[1])\n",
    "X_1 = pd.read_csv('whole_users.csv', usecols=[2])\n",
    "plt.scatter(X_0, X_1)"
   ]
  },
  {
   "cell_type": "code",
   "execution_count": 52,
   "metadata": {},
   "outputs": [
    {
     "data": {
      "text/plain": [
       "['la_rams', 'ne_patriots', 'both', 'sports_fan']"
      ]
     },
     "execution_count": 52,
     "metadata": {},
     "output_type": "execute_result"
    }
   ],
   "source": [
    "labeled = pd.read_csv('merged_follower_affiliation.csv', usecols=['user_name', 'tweet_text_full', 'team_affiliation_superfollowers'])\n",
    "label_dict = labeled['team_affiliation_superfollowers'].unique().tolist()\n",
    "label_dict"
   ]
  },
  {
   "cell_type": "code",
   "execution_count": 53,
   "metadata": {},
   "outputs": [
    {
     "data": {
      "text/html": [
       "<div>\n",
       "<style scoped>\n",
       "    .dataframe tbody tr th:only-of-type {\n",
       "        vertical-align: middle;\n",
       "    }\n",
       "\n",
       "    .dataframe tbody tr th {\n",
       "        vertical-align: top;\n",
       "    }\n",
       "\n",
       "    .dataframe thead th {\n",
       "        text-align: right;\n",
       "    }\n",
       "</style>\n",
       "<table border=\"1\" class=\"dataframe\">\n",
       "  <thead>\n",
       "    <tr style=\"text-align: right;\">\n",
       "      <th></th>\n",
       "      <th>user_name</th>\n",
       "      <th>tweet_text_full</th>\n",
       "      <th>team_affiliation_superfollowers</th>\n",
       "      <th>label</th>\n",
       "    </tr>\n",
       "  </thead>\n",
       "  <tbody>\n",
       "    <tr>\n",
       "      <th>0</th>\n",
       "      <td>Lauren</td>\n",
       "      <td>RT @OfcrMatt: Who wants some free swag?\\r\\n\\r\\...</td>\n",
       "      <td>la_rams</td>\n",
       "      <td>0</td>\n",
       "    </tr>\n",
       "    <tr>\n",
       "      <th>1</th>\n",
       "      <td>Options Owl</td>\n",
       "      <td>RT @NFL_Memes: Still more exciting than watchi...</td>\n",
       "      <td>ne_patriots</td>\n",
       "      <td>1</td>\n",
       "    </tr>\n",
       "    <tr>\n",
       "      <th>2</th>\n",
       "      <td>Ra’s al Ghul ὓ1</td>\n",
       "      <td>RT @P2: Super Bowl commercial debut. Such a bl...</td>\n",
       "      <td>la_rams</td>\n",
       "      <td>0</td>\n",
       "    </tr>\n",
       "    <tr>\n",
       "      <th>3</th>\n",
       "      <td>Ra’s al Ghul ὓ1</td>\n",
       "      <td>RT @MoveTheSticks: If NE wins, Edelman is the ...</td>\n",
       "      <td>la_rams</td>\n",
       "      <td>0</td>\n",
       "    </tr>\n",
       "    <tr>\n",
       "      <th>4</th>\n",
       "      <td>Ra’s al Ghul ὓ1</td>\n",
       "      <td>RT @espn: INTERCEPTION!\\r\\n\\r\\nThe Patriots ar...</td>\n",
       "      <td>la_rams</td>\n",
       "      <td>0</td>\n",
       "    </tr>\n",
       "  </tbody>\n",
       "</table>\n",
       "</div>"
      ],
      "text/plain": [
       "         user_name                                    tweet_text_full  \\\n",
       "0           Lauren  RT @OfcrMatt: Who wants some free swag?\\r\\n\\r\\...   \n",
       "1      Options Owl  RT @NFL_Memes: Still more exciting than watchi...   \n",
       "2  Ra’s al Ghul ὓ1  RT @P2: Super Bowl commercial debut. Such a bl...   \n",
       "3  Ra’s al Ghul ὓ1  RT @MoveTheSticks: If NE wins, Edelman is the ...   \n",
       "4  Ra’s al Ghul ὓ1  RT @espn: INTERCEPTION!\\r\\n\\r\\nThe Patriots ar...   \n",
       "\n",
       "  team_affiliation_superfollowers  label  \n",
       "0                         la_rams      0  \n",
       "1                     ne_patriots      1  \n",
       "2                         la_rams      0  \n",
       "3                         la_rams      0  \n",
       "4                         la_rams      0  "
      ]
     },
     "execution_count": 53,
     "metadata": {},
     "output_type": "execute_result"
    }
   ],
   "source": [
    "labeled['label'] = labeled['team_affiliation_superfollowers'].apply(lambda x : label_dict.index(x))\n",
    "labeled.head()"
   ]
  },
  {
   "cell_type": "code",
   "execution_count": 29,
   "metadata": {},
   "outputs": [
    {
     "data": {
      "text/plain": [
       "1    98238\n",
       "0    23943\n",
       "2    19183\n",
       "3      761\n",
       "Name: label, dtype: int64"
      ]
     },
     "execution_count": 29,
     "metadata": {},
     "output_type": "execute_result"
    }
   ],
   "source": [
    "labeled.loc[:, 'label'].value_counts()"
   ]
  },
  {
   "cell_type": "code",
   "execution_count": 64,
   "metadata": {},
   "outputs": [
    {
     "data": {
      "text/plain": [
       "<AxesSubplot:xlabel='label', ylabel='count'>"
      ]
     },
     "execution_count": 64,
     "metadata": {},
     "output_type": "execute_result"
    },
    {
     "data": {
      "image/png": "[encoded data removed]",
      "text/plain": [
       "<Figure size 432x288 with 1 Axes>"
      ]
     },
     "metadata": {
      "needs_background": "light"
     },
     "output_type": "display_data"
    }
   ],
   "source": [
    "import seaborn as sns\n",
    "\n",
    "sns.countplot(x=\"label\", data=labeled)"
   ]
  },
  {
   "cell_type": "code",
   "execution_count": 52,
   "metadata": {},
   "outputs": [
    {
     "data": {
      "text/plain": [
       "78602"
      ]
     },
     "execution_count": 52,
     "metadata": {},
     "output_type": "execute_result"
    }
   ],
   "source": [
    "labeled['user_name'].nunique()\n",
    "# 1. this is the total users we got (unique), 78602->overwhelmed by large class and ignore small ones\n",
    "# possible improvement 1: needs unsampling"
   ]
  },
  {
   "cell_type": "code",
   "execution_count": null,
   "metadata": {},
   "outputs": [],
   "source": [
    "# Number of unique users after filtering only Retweets\n",
    "# 2. this is the total users who retweeted at least once,2181 vocal users 52065"
   ]
  },
  {
   "cell_type": "code",
   "execution_count": null,
   "metadata": {},
   "outputs": [],
   "source": []
  },
  {
   "cell_type": "code",
   "execution_count": 32,
   "metadata": {},
   "outputs": [
    {
     "data": {
      "text/html": [
       "<div>\n",
       "<style scoped>\n",
       "    .dataframe tbody tr th:only-of-type {\n",
       "        vertical-align: middle;\n",
       "    }\n",
       "\n",
       "    .dataframe tbody tr th {\n",
       "        vertical-align: top;\n",
       "    }\n",
       "\n",
       "    .dataframe thead th {\n",
       "        text-align: right;\n",
       "    }\n",
       "</style>\n",
       "<table border=\"1\" class=\"dataframe\">\n",
       "  <thead>\n",
       "    <tr style=\"text-align: right;\">\n",
       "      <th></th>\n",
       "      <th>0</th>\n",
       "      <th>1</th>\n",
       "      <th>cluster_id</th>\n",
       "    </tr>\n",
       "  </thead>\n",
       "  <tbody>\n",
       "    <tr>\n",
       "      <th>\"rowdy\"</th>\n",
       "      <td>0.709300</td>\n",
       "      <td>-0.507072</td>\n",
       "      <td>-1</td>\n",
       "    </tr>\n",
       "    <tr>\n",
       "      <th>#allincle #allforone</th>\n",
       "      <td>-0.750664</td>\n",
       "      <td>-0.368673</td>\n",
       "      <td>-1</td>\n",
       "    </tr>\n",
       "    <tr>\n",
       "      <th>#balorclub</th>\n",
       "      <td>0.132771</td>\n",
       "      <td>0.470690</td>\n",
       "      <td>-1</td>\n",
       "    </tr>\n",
       "    <tr>\n",
       "      <th>#beatla</th>\n",
       "      <td>0.226581</td>\n",
       "      <td>-0.595684</td>\n",
       "      <td>0</td>\n",
       "    </tr>\n",
       "    <tr>\n",
       "      <th>#boycottthenfl</th>\n",
       "      <td>-0.090955</td>\n",
       "      <td>0.242821</td>\n",
       "      <td>0</td>\n",
       "    </tr>\n",
       "  </tbody>\n",
       "</table>\n",
       "</div>"
      ],
      "text/plain": [
       "                             0         1  cluster_id\n",
       "\"rowdy\"               0.709300 -0.507072          -1\n",
       "#allincle #allforone -0.750664 -0.368673          -1\n",
       "#balorclub            0.132771  0.470690          -1\n",
       "#beatla               0.226581 -0.595684           0\n",
       "#boycottthenfl       -0.090955  0.242821           0"
      ]
     },
     "execution_count": 32,
     "metadata": {},
     "output_type": "execute_result"
    }
   ],
   "source": [
    "df_user.head() # cluster_id -1/0"
   ]
  },
  {
   "cell_type": "code",
   "execution_count": 36,
   "metadata": {},
   "outputs": [
    {
     "data": {
      "text/plain": [
       "2181"
      ]
     },
     "execution_count": 36,
     "metadata": {},
     "output_type": "execute_result"
    }
   ],
   "source": [
    "df_user.shape[0] # active_user 2181\n",
    "# 3. this is the total active users who retweet at least 5 times, 2181"
   ]
  },
  {
   "cell_type": "code",
   "execution_count": 31,
   "metadata": {},
   "outputs": [
    {
     "data": {
      "text/html": [
       "<div>\n",
       "<style scoped>\n",
       "    .dataframe tbody tr th:only-of-type {\n",
       "        vertical-align: middle;\n",
       "    }\n",
       "\n",
       "    .dataframe tbody tr th {\n",
       "        vertical-align: top;\n",
       "    }\n",
       "\n",
       "    .dataframe thead th {\n",
       "        text-align: right;\n",
       "    }\n",
       "</style>\n",
       "<table border=\"1\" class=\"dataframe\">\n",
       "  <thead>\n",
       "    <tr style=\"text-align: right;\">\n",
       "      <th></th>\n",
       "      <th>Unnamed: 0</th>\n",
       "      <th>0</th>\n",
       "      <th>1</th>\n",
       "      <th>cluster_id</th>\n",
       "    </tr>\n",
       "  </thead>\n",
       "  <tbody>\n",
       "    <tr>\n",
       "      <th>0</th>\n",
       "      <td>#beatla</td>\n",
       "      <td>0.226581</td>\n",
       "      <td>-0.595684</td>\n",
       "      <td>0</td>\n",
       "    </tr>\n",
       "    <tr>\n",
       "      <th>1</th>\n",
       "      <td>#boycottthenfl</td>\n",
       "      <td>-0.090955</td>\n",
       "      <td>0.242821</td>\n",
       "      <td>0</td>\n",
       "    </tr>\n",
       "    <tr>\n",
       "      <th>2</th>\n",
       "      <td>#dukenation 19-2</td>\n",
       "      <td>0.016345</td>\n",
       "      <td>0.329817</td>\n",
       "      <td>0</td>\n",
       "    </tr>\n",
       "    <tr>\n",
       "      <th>3</th>\n",
       "      <td>#everythingwegot</td>\n",
       "      <td>0.356937</td>\n",
       "      <td>-0.375891</td>\n",
       "      <td>0</td>\n",
       "    </tr>\n",
       "    <tr>\n",
       "      <th>4</th>\n",
       "      <td>#flyeaglesfly</td>\n",
       "      <td>-0.110235</td>\n",
       "      <td>0.447484</td>\n",
       "      <td>0</td>\n",
       "    </tr>\n",
       "  </tbody>\n",
       "</table>\n",
       "</div>"
      ],
      "text/plain": [
       "         Unnamed: 0         0         1  cluster_id\n",
       "0           #beatla  0.226581 -0.595684           0\n",
       "1    #boycottthenfl -0.090955  0.242821           0\n",
       "2  #dukenation 19-2  0.016345  0.329817           0\n",
       "3  #everythingwegot  0.356937 -0.375891           0\n",
       "4     #flyeaglesfly -0.110235  0.447484           0"
      ]
     },
     "execution_count": 31,
     "metadata": {},
     "output_type": "execute_result"
    }
   ],
   "source": [
    "active_users.head() # cluster_id 0, all clustered\n",
    "# use those auto clustered users to train a supervised model\n",
    "# 4. this is the total clustered users, 1060"
   ]
  },
  {
   "cell_type": "code",
   "execution_count": null,
   "metadata": {},
   "outputs": [],
   "source": [
    "# our goal for supervised model: 1060 train->label all the 2181 active users"
   ]
  },
  {
   "cell_type": "code",
   "execution_count": 38,
   "metadata": {},
   "outputs": [
    {
     "data": {
      "text/html": [
       "<div>\n",
       "<style scoped>\n",
       "    .dataframe tbody tr th:only-of-type {\n",
       "        vertical-align: middle;\n",
       "    }\n",
       "\n",
       "    .dataframe tbody tr th {\n",
       "        vertical-align: top;\n",
       "    }\n",
       "\n",
       "    .dataframe thead th {\n",
       "        text-align: right;\n",
       "    }\n",
       "</style>\n",
       "<table border=\"1\" class=\"dataframe\">\n",
       "  <thead>\n",
       "    <tr style=\"text-align: right;\">\n",
       "      <th></th>\n",
       "      <th>User</th>\n",
       "      <th>Text</th>\n",
       "      <th>Retweet</th>\n",
       "    </tr>\n",
       "  </thead>\n",
       "  <tbody>\n",
       "    <tr>\n",
       "      <th>0</th>\n",
       "      <td>lauren</td>\n",
       "      <td>RT @OfcrMatt: Who wants some free swag?\\r\\n\\r\\...</td>\n",
       "      <td>ofcrmatt</td>\n",
       "    </tr>\n",
       "    <tr>\n",
       "      <th>13</th>\n",
       "      <td>pete</td>\n",
       "      <td>RT @AdamSchefter: As the MVP of this year’s Su...</td>\n",
       "      <td>adamschefter</td>\n",
       "    </tr>\n",
       "    <tr>\n",
       "      <th>30</th>\n",
       "      <td>ashley</td>\n",
       "      <td>RT @MarkDanielsPJ: The Patriots lost Super Bow...</td>\n",
       "      <td>markdanielspj</td>\n",
       "    </tr>\n",
       "    <tr>\n",
       "      <th>35</th>\n",
       "      <td>ἴ8superbowl aaronkrucoffἴ8</td>\n",
       "      <td>RT @swin24: my favorite super bowl commercials...</td>\n",
       "      <td>swin24</td>\n",
       "    </tr>\n",
       "    <tr>\n",
       "      <th>36</th>\n",
       "      <td>ἴ8superbowl aaronkrucoffἴ8</td>\n",
       "      <td>RT @TheOnion: Super Bowl Halftime Show Marred ...</td>\n",
       "      <td>theonion</td>\n",
       "    </tr>\n",
       "  </tbody>\n",
       "</table>\n",
       "</div>"
      ],
      "text/plain": [
       "                          User  \\\n",
       "0                       lauren   \n",
       "13                        pete   \n",
       "30                      ashley   \n",
       "35  ἴ8superbowl aaronkrucoffἴ8   \n",
       "36  ἴ8superbowl aaronkrucoffἴ8   \n",
       "\n",
       "                                                 Text        Retweet  \n",
       "0   RT @OfcrMatt: Who wants some free swag?\\r\\n\\r\\...       ofcrmatt  \n",
       "13  RT @AdamSchefter: As the MVP of this year’s Su...   adamschefter  \n",
       "30  RT @MarkDanielsPJ: The Patriots lost Super Bow...  markdanielspj  \n",
       "35  RT @swin24: my favorite super bowl commercials...         swin24  \n",
       "36  RT @TheOnion: Super Bowl Halftime Show Marred ...       theonion  "
      ]
     },
     "execution_count": 38,
     "metadata": {},
     "output_type": "execute_result"
    }
   ],
   "source": [
    "df_text.head() # retweet num"
   ]
  },
  {
   "cell_type": "code",
   "execution_count": 53,
   "metadata": {},
   "outputs": [
    {
     "data": {
      "text/plain": [
       "2181"
      ]
     },
     "execution_count": 53,
     "metadata": {},
     "output_type": "execute_result"
    }
   ],
   "source": [
    "df_text['User'].nunique()"
   ]
  },
  {
   "cell_type": "code",
   "execution_count": 39,
   "metadata": {},
   "outputs": [
    {
     "data": {
      "text/plain": [
       "User\n",
       "chris                121.0\n",
       "nick                  99.0\n",
       ".                     94.0\n",
       "alex                  93.0\n",
       "josh                  89.0\n",
       "                     ...  \n",
       "joanne meyer           5.0\n",
       "joanna                 5.0\n",
       "joann @ esaudio:)      5.0\n",
       "jo$h                   5.0\n",
       "kathleen bruce         5.0\n",
       "Name: Retweet, Length: 2181, dtype: float64"
      ]
     },
     "execution_count": 39,
     "metadata": {},
     "output_type": "execute_result"
    }
   ],
   "source": [
    "users_of_interest # retweet num->feature"
   ]
  },
  {
   "cell_type": "code",
   "execution_count": 40,
   "metadata": {},
   "outputs": [
    {
     "data": {
      "text/plain": [
       "Index(['chris', 'nick', '.', 'alex', 'josh', 'ryan', 'matt', 'sam', 'brandon',\n",
       "       'michael',\n",
       "       ...\n",
       "       'yeff', 'yianni manousaridis', 'joe sheehan', 'joe barnes', 'jody d',\n",
       "       'joanne meyer', 'joanna', 'joann @ esaudio:)', 'jo$h',\n",
       "       'kathleen bruce'],\n",
       "      dtype='object', name='User', length=2181)"
      ]
     },
     "execution_count": 40,
     "metadata": {},
     "output_type": "execute_result"
    }
   ],
   "source": [
    "users_of_interest.index"
   ]
  },
  {
   "cell_type": "code",
   "execution_count": null,
   "metadata": {},
   "outputs": [],
   "source": []
  },
  {
   "cell_type": "markdown",
   "metadata": {},
   "source": [
    "## STEPS"
   ]
  },
  {
   "cell_type": "code",
   "execution_count": null,
   "metadata": {},
   "outputs": [],
   "source": [
    "# step 1: exclude unlabeled user accounts in df_text to create training dataset"
   ]
  },
  {
   "cell_type": "code",
   "execution_count": 33,
   "metadata": {},
   "outputs": [],
   "source": [
    "# labeled user accounts list\n",
    "labeled_list = active_users['Unnamed: 0'].to_list()"
   ]
  },
  {
   "cell_type": "code",
   "execution_count": 34,
   "metadata": {},
   "outputs": [],
   "source": [
    "supervised = df_text[['User', 'Retweet']]"
   ]
  },
  {
   "cell_type": "code",
   "execution_count": 35,
   "metadata": {},
   "outputs": [],
   "source": [
    "supervised = supervised[supervised.User.isin(labeled_list)]"
   ]
  },
  {
   "cell_type": "code",
   "execution_count": 36,
   "metadata": {},
   "outputs": [
    {
     "data": {
      "text/html": [
       "<div>\n",
       "<style scoped>\n",
       "    .dataframe tbody tr th:only-of-type {\n",
       "        vertical-align: middle;\n",
       "    }\n",
       "\n",
       "    .dataframe tbody tr th {\n",
       "        vertical-align: top;\n",
       "    }\n",
       "\n",
       "    .dataframe thead th {\n",
       "        text-align: right;\n",
       "    }\n",
       "</style>\n",
       "<table border=\"1\" class=\"dataframe\">\n",
       "  <thead>\n",
       "    <tr style=\"text-align: right;\">\n",
       "      <th></th>\n",
       "      <th>User</th>\n",
       "      <th>Retweet</th>\n",
       "    </tr>\n",
       "  </thead>\n",
       "  <tbody>\n",
       "    <tr>\n",
       "      <th>0</th>\n",
       "      <td>lauren</td>\n",
       "      <td>ofcrmatt</td>\n",
       "    </tr>\n",
       "    <tr>\n",
       "      <th>67</th>\n",
       "      <td>caleb</td>\n",
       "      <td>anatescott</td>\n",
       "    </tr>\n",
       "    <tr>\n",
       "      <th>68</th>\n",
       "      <td>caleb</td>\n",
       "      <td>theonion</td>\n",
       "    </tr>\n",
       "    <tr>\n",
       "      <th>101</th>\n",
       "      <td>andy</td>\n",
       "      <td>sbnation</td>\n",
       "    </tr>\n",
       "    <tr>\n",
       "      <th>115</th>\n",
       "      <td>james</td>\n",
       "      <td>scootermagruder</td>\n",
       "    </tr>\n",
       "  </tbody>\n",
       "</table>\n",
       "</div>"
      ],
      "text/plain": [
       "       User          Retweet\n",
       "0    lauren         ofcrmatt\n",
       "67    caleb       anatescott\n",
       "68    caleb         theonion\n",
       "101    andy         sbnation\n",
       "115   james  scootermagruder"
      ]
     },
     "execution_count": 36,
     "metadata": {},
     "output_type": "execute_result"
    }
   ],
   "source": [
    "supervised.head()"
   ]
  },
  {
   "cell_type": "code",
   "execution_count": 37,
   "metadata": {},
   "outputs": [],
   "source": [
    "supervised['Label'] = 'ne_patriots'"
   ]
  },
  {
   "cell_type": "code",
   "execution_count": 38,
   "metadata": {},
   "outputs": [
    {
     "data": {
      "text/html": [
       "<div>\n",
       "<style scoped>\n",
       "    .dataframe tbody tr th:only-of-type {\n",
       "        vertical-align: middle;\n",
       "    }\n",
       "\n",
       "    .dataframe tbody tr th {\n",
       "        vertical-align: top;\n",
       "    }\n",
       "\n",
       "    .dataframe thead th {\n",
       "        text-align: right;\n",
       "    }\n",
       "</style>\n",
       "<table border=\"1\" class=\"dataframe\">\n",
       "  <thead>\n",
       "    <tr style=\"text-align: right;\">\n",
       "      <th></th>\n",
       "      <th>User</th>\n",
       "      <th>Retweet</th>\n",
       "      <th>Label</th>\n",
       "    </tr>\n",
       "  </thead>\n",
       "  <tbody>\n",
       "    <tr>\n",
       "      <th>0</th>\n",
       "      <td>lauren</td>\n",
       "      <td>ofcrmatt</td>\n",
       "      <td>ne_patriots</td>\n",
       "    </tr>\n",
       "    <tr>\n",
       "      <th>67</th>\n",
       "      <td>caleb</td>\n",
       "      <td>anatescott</td>\n",
       "      <td>ne_patriots</td>\n",
       "    </tr>\n",
       "    <tr>\n",
       "      <th>68</th>\n",
       "      <td>caleb</td>\n",
       "      <td>theonion</td>\n",
       "      <td>ne_patriots</td>\n",
       "    </tr>\n",
       "    <tr>\n",
       "      <th>101</th>\n",
       "      <td>andy</td>\n",
       "      <td>sbnation</td>\n",
       "      <td>ne_patriots</td>\n",
       "    </tr>\n",
       "    <tr>\n",
       "      <th>115</th>\n",
       "      <td>james</td>\n",
       "      <td>scootermagruder</td>\n",
       "      <td>ne_patriots</td>\n",
       "    </tr>\n",
       "  </tbody>\n",
       "</table>\n",
       "</div>"
      ],
      "text/plain": [
       "       User          Retweet        Label\n",
       "0    lauren         ofcrmatt  ne_patriots\n",
       "67    caleb       anatescott  ne_patriots\n",
       "68    caleb         theonion  ne_patriots\n",
       "101    andy         sbnation  ne_patriots\n",
       "115   james  scootermagruder  ne_patriots"
      ]
     },
     "execution_count": 38,
     "metadata": {},
     "output_type": "execute_result"
    }
   ],
   "source": [
    "supervised.head()"
   ]
  },
  {
   "cell_type": "code",
   "execution_count": null,
   "metadata": {},
   "outputs": [],
   "source": [
    "# step 2: format data using"
   ]
  },
  {
   "cell_type": "code",
   "execution_count": 39,
   "metadata": {},
   "outputs": [],
   "source": [
    "supervised = supervised[['Label', 'Retweet']]"
   ]
  },
  {
   "cell_type": "code",
   "execution_count": 40,
   "metadata": {},
   "outputs": [],
   "source": [
    "supervised['Label'] = supervised['Label'].apply(lambda x: '__label__' + x)"
   ]
  },
  {
   "cell_type": "code",
   "execution_count": 41,
   "metadata": {},
   "outputs": [
    {
     "data": {
      "text/html": [
       "<div>\n",
       "<style scoped>\n",
       "    .dataframe tbody tr th:only-of-type {\n",
       "        vertical-align: middle;\n",
       "    }\n",
       "\n",
       "    .dataframe tbody tr th {\n",
       "        vertical-align: top;\n",
       "    }\n",
       "\n",
       "    .dataframe thead th {\n",
       "        text-align: right;\n",
       "    }\n",
       "</style>\n",
       "<table border=\"1\" class=\"dataframe\">\n",
       "  <thead>\n",
       "    <tr style=\"text-align: right;\">\n",
       "      <th></th>\n",
       "      <th>Label</th>\n",
       "      <th>Retweet</th>\n",
       "    </tr>\n",
       "  </thead>\n",
       "  <tbody>\n",
       "    <tr>\n",
       "      <th>0</th>\n",
       "      <td>__label__ne_patriots</td>\n",
       "      <td>ofcrmatt</td>\n",
       "    </tr>\n",
       "    <tr>\n",
       "      <th>67</th>\n",
       "      <td>__label__ne_patriots</td>\n",
       "      <td>anatescott</td>\n",
       "    </tr>\n",
       "    <tr>\n",
       "      <th>68</th>\n",
       "      <td>__label__ne_patriots</td>\n",
       "      <td>theonion</td>\n",
       "    </tr>\n",
       "    <tr>\n",
       "      <th>101</th>\n",
       "      <td>__label__ne_patriots</td>\n",
       "      <td>sbnation</td>\n",
       "    </tr>\n",
       "    <tr>\n",
       "      <th>115</th>\n",
       "      <td>__label__ne_patriots</td>\n",
       "      <td>scootermagruder</td>\n",
       "    </tr>\n",
       "  </tbody>\n",
       "</table>\n",
       "</div>"
      ],
      "text/plain": [
       "                    Label          Retweet\n",
       "0    __label__ne_patriots         ofcrmatt\n",
       "67   __label__ne_patriots       anatescott\n",
       "68   __label__ne_patriots         theonion\n",
       "101  __label__ne_patriots         sbnation\n",
       "115  __label__ne_patriots  scootermagruder"
      ]
     },
     "execution_count": 41,
     "metadata": {},
     "output_type": "execute_result"
    }
   ],
   "source": [
    "supervised.head()"
   ]
  },
  {
   "cell_type": "code",
   "execution_count": 42,
   "metadata": {},
   "outputs": [],
   "source": [
    "from sklearn.model_selection import train_test_split"
   ]
  },
  {
   "cell_type": "code",
   "execution_count": 43,
   "metadata": {},
   "outputs": [],
   "source": [
    "train, test = train_test_split(supervised, test_size=0.2)"
   ]
  },
  {
   "cell_type": "code",
   "execution_count": 31,
   "metadata": {},
   "outputs": [],
   "source": [
    "train.to_csv('train.csv', sep=' ', index=False, header=False)\n",
    "test.to_csv('test.csv', sep=' ', index=False, header=False)"
   ]
  },
  {
   "cell_type": "code",
   "execution_count": null,
   "metadata": {},
   "outputs": [],
   "source": [
    "# step 3: train FastText by default parameters"
   ]
  },
  {
   "cell_type": "code",
   "execution_count": 44,
   "metadata": {},
   "outputs": [],
   "source": [
    "import fasttext as ft"
   ]
  },
  {
   "cell_type": "code",
   "execution_count": 45,
   "metadata": {},
   "outputs": [],
   "source": [
    "classifier = ft.train_supervised(input='train.csv', epoch=10, lr=0.01, wordNgrams=2, minCount=1, \n",
    "                                 loss=\"softmax\")"
   ]
  },
  {
   "cell_type": "code",
   "execution_count": null,
   "metadata": {},
   "outputs": [],
   "source": [
    "# step 4: evaluate the model, precision and recall"
   ]
  },
  {
   "cell_type": "code",
   "execution_count": 33,
   "metadata": {},
   "outputs": [
    {
     "data": {
      "text/plain": [
       "(2233, 1.0, 1.0)"
      ]
     },
     "execution_count": 33,
     "metadata": {},
     "output_type": "execute_result"
    }
   ],
   "source": [
    "classifier.test('test.csv') # only one label"
   ]
  },
  {
   "cell_type": "code",
   "execution_count": 34,
   "metadata": {},
   "outputs": [
    {
     "data": {
      "text/plain": [
       "(8929, 1.0, 1.0)"
      ]
     },
     "execution_count": 34,
     "metadata": {},
     "output_type": "execute_result"
    }
   ],
   "source": [
    "classifier.test('train.csv')"
   ]
  },
  {
   "cell_type": "code",
   "execution_count": 37,
   "metadata": {},
   "outputs": [
    {
     "data": {
      "text/plain": [
       "([['__label__ne_patriots']], [array([1.00001], dtype=float32)])"
      ]
     },
     "execution_count": 37,
     "metadata": {},
     "output_type": "execute_result"
    }
   ],
   "source": [
    "classifier.predict(['angel_og'], k=1)"
   ]
  },
  {
   "cell_type": "code",
   "execution_count": null,
   "metadata": {},
   "outputs": [],
   "source": [
    "# step 5: extend labels"
   ]
  },
  {
   "cell_type": "code",
   "execution_count": 31,
   "metadata": {},
   "outputs": [],
   "source": [
    "classified = df_text # 2181 vocal users"
   ]
  },
  {
   "cell_type": "code",
   "execution_count": 47,
   "metadata": {},
   "outputs": [
    {
     "name": "stderr",
     "output_type": "stream",
     "text": [
      "/home/zou00080/anaconda3/envs/dl/lib/python3.7/site-packages/ipykernel_launcher.py:1: SettingWithCopyWarning: \n",
      "A value is trying to be set on a copy of a slice from a DataFrame.\n",
      "Try using .loc[row_indexer,col_indexer] = value instead\n",
      "\n",
      "See the caveats in the documentation: https://pandas.pydata.org/pandas-docs/stable/user_guide/indexing.html#returning-a-view-versus-a-copy\n",
      "  \"\"\"Entry point for launching an IPython kernel.\n"
     ]
    }
   ],
   "source": [
    "classified['Label'] = classified['Retweet'].apply(lambda x: classifier.predict(x, k=1)[0])"
   ]
  },
  {
   "cell_type": "code",
   "execution_count": 50,
   "metadata": {},
   "outputs": [
    {
     "data": {
      "text/html": [
       "<div>\n",
       "<style scoped>\n",
       "    .dataframe tbody tr th:only-of-type {\n",
       "        vertical-align: middle;\n",
       "    }\n",
       "\n",
       "    .dataframe tbody tr th {\n",
       "        vertical-align: top;\n",
       "    }\n",
       "\n",
       "    .dataframe thead th {\n",
       "        text-align: right;\n",
       "    }\n",
       "</style>\n",
       "<table border=\"1\" class=\"dataframe\">\n",
       "  <thead>\n",
       "    <tr style=\"text-align: right;\">\n",
       "      <th></th>\n",
       "      <th>User</th>\n",
       "      <th>Text</th>\n",
       "      <th>Retweet</th>\n",
       "      <th>Label</th>\n",
       "    </tr>\n",
       "  </thead>\n",
       "  <tbody>\n",
       "    <tr>\n",
       "      <th>0</th>\n",
       "      <td>lauren</td>\n",
       "      <td>RT @OfcrMatt: Who wants some free swag?\\r\\n\\r\\...</td>\n",
       "      <td>ofcrmatt</td>\n",
       "      <td>(__label__ne_patriots,)</td>\n",
       "    </tr>\n",
       "    <tr>\n",
       "      <th>13</th>\n",
       "      <td>pete</td>\n",
       "      <td>RT @AdamSchefter: As the MVP of this year’s Su...</td>\n",
       "      <td>adamschefter</td>\n",
       "      <td>(__label__ne_patriots,)</td>\n",
       "    </tr>\n",
       "    <tr>\n",
       "      <th>30</th>\n",
       "      <td>ashley</td>\n",
       "      <td>RT @MarkDanielsPJ: The Patriots lost Super Bow...</td>\n",
       "      <td>markdanielspj</td>\n",
       "      <td>(__label__ne_patriots,)</td>\n",
       "    </tr>\n",
       "    <tr>\n",
       "      <th>35</th>\n",
       "      <td>ἴ8superbowl aaronkrucoffἴ8</td>\n",
       "      <td>RT @swin24: my favorite super bowl commercials...</td>\n",
       "      <td>swin24</td>\n",
       "      <td>(__label__ne_patriots,)</td>\n",
       "    </tr>\n",
       "    <tr>\n",
       "      <th>36</th>\n",
       "      <td>ἴ8superbowl aaronkrucoffἴ8</td>\n",
       "      <td>RT @TheOnion: Super Bowl Halftime Show Marred ...</td>\n",
       "      <td>theonion</td>\n",
       "      <td>(__label__ne_patriots,)</td>\n",
       "    </tr>\n",
       "  </tbody>\n",
       "</table>\n",
       "</div>"
      ],
      "text/plain": [
       "                          User  \\\n",
       "0                       lauren   \n",
       "13                        pete   \n",
       "30                      ashley   \n",
       "35  ἴ8superbowl aaronkrucoffἴ8   \n",
       "36  ἴ8superbowl aaronkrucoffἴ8   \n",
       "\n",
       "                                                 Text        Retweet  \\\n",
       "0   RT @OfcrMatt: Who wants some free swag?\\r\\n\\r\\...       ofcrmatt   \n",
       "13  RT @AdamSchefter: As the MVP of this year’s Su...   adamschefter   \n",
       "30  RT @MarkDanielsPJ: The Patriots lost Super Bow...  markdanielspj   \n",
       "35  RT @swin24: my favorite super bowl commercials...         swin24   \n",
       "36  RT @TheOnion: Super Bowl Halftime Show Marred ...       theonion   \n",
       "\n",
       "                      Label  \n",
       "0   (__label__ne_patriots,)  \n",
       "13  (__label__ne_patriots,)  \n",
       "30  (__label__ne_patriots,)  \n",
       "35  (__label__ne_patriots,)  \n",
       "36  (__label__ne_patriots,)  "
      ]
     },
     "execution_count": 50,
     "metadata": {},
     "output_type": "execute_result"
    }
   ],
   "source": [
    "classified.head()"
   ]
  },
  {
   "cell_type": "code",
   "execution_count": 49,
   "metadata": {},
   "outputs": [
    {
     "data": {
      "text/plain": [
       "(__label__ne_patriots,)    22195\n",
       "Name: Label, dtype: int64"
      ]
     },
     "execution_count": 49,
     "metadata": {},
     "output_type": "execute_result"
    }
   ],
   "source": [
    "classified['Label'].value_counts()"
   ]
  },
  {
   "cell_type": "code",
   "execution_count": null,
   "metadata": {},
   "outputs": [],
   "source": [
    "# step 6: calculate the accuracy using benchmark we have\n",
    "# double check if that 2181 active users are classified correctly (all ne_patriots)"
   ]
  },
  {
   "cell_type": "code",
   "execution_count": 66,
   "metadata": {},
   "outputs": [],
   "source": [
    "classified_list = classified.User.unique().tolist()"
   ]
  },
  {
   "cell_type": "code",
   "execution_count": 62,
   "metadata": {},
   "outputs": [
    {
     "data": {
      "text/html": [
       "<div>\n",
       "<style scoped>\n",
       "    .dataframe tbody tr th:only-of-type {\n",
       "        vertical-align: middle;\n",
       "    }\n",
       "\n",
       "    .dataframe tbody tr th {\n",
       "        vertical-align: top;\n",
       "    }\n",
       "\n",
       "    .dataframe thead th {\n",
       "        text-align: right;\n",
       "    }\n",
       "</style>\n",
       "<table border=\"1\" class=\"dataframe\">\n",
       "  <thead>\n",
       "    <tr style=\"text-align: right;\">\n",
       "      <th></th>\n",
       "      <th>user_name</th>\n",
       "      <th>tweet_text_full</th>\n",
       "      <th>team_affiliation_superfollowers</th>\n",
       "      <th>label</th>\n",
       "    </tr>\n",
       "  </thead>\n",
       "  <tbody>\n",
       "    <tr>\n",
       "      <th>0</th>\n",
       "      <td>Lauren</td>\n",
       "      <td>RT @OfcrMatt: Who wants some free swag?\\r\\n\\r\\...</td>\n",
       "      <td>la_rams</td>\n",
       "      <td>0</td>\n",
       "    </tr>\n",
       "    <tr>\n",
       "      <th>1</th>\n",
       "      <td>Options Owl</td>\n",
       "      <td>RT @NFL_Memes: Still more exciting than watchi...</td>\n",
       "      <td>ne_patriots</td>\n",
       "      <td>1</td>\n",
       "    </tr>\n",
       "    <tr>\n",
       "      <th>2</th>\n",
       "      <td>Ra’s al Ghul ὓ1</td>\n",
       "      <td>RT @P2: Super Bowl commercial debut. Such a bl...</td>\n",
       "      <td>la_rams</td>\n",
       "      <td>0</td>\n",
       "    </tr>\n",
       "    <tr>\n",
       "      <th>3</th>\n",
       "      <td>Ra’s al Ghul ὓ1</td>\n",
       "      <td>RT @MoveTheSticks: If NE wins, Edelman is the ...</td>\n",
       "      <td>la_rams</td>\n",
       "      <td>0</td>\n",
       "    </tr>\n",
       "    <tr>\n",
       "      <th>4</th>\n",
       "      <td>Ra’s al Ghul ὓ1</td>\n",
       "      <td>RT @espn: INTERCEPTION!\\r\\n\\r\\nThe Patriots ar...</td>\n",
       "      <td>la_rams</td>\n",
       "      <td>0</td>\n",
       "    </tr>\n",
       "  </tbody>\n",
       "</table>\n",
       "</div>"
      ],
      "text/plain": [
       "         user_name                                    tweet_text_full  \\\n",
       "0           Lauren  RT @OfcrMatt: Who wants some free swag?\\r\\n\\r\\...   \n",
       "1      Options Owl  RT @NFL_Memes: Still more exciting than watchi...   \n",
       "2  Ra’s al Ghul ὓ1  RT @P2: Super Bowl commercial debut. Such a bl...   \n",
       "3  Ra’s al Ghul ὓ1  RT @MoveTheSticks: If NE wins, Edelman is the ...   \n",
       "4  Ra’s al Ghul ὓ1  RT @espn: INTERCEPTION!\\r\\n\\r\\nThe Patriots ar...   \n",
       "\n",
       "  team_affiliation_superfollowers  label  \n",
       "0                         la_rams      0  \n",
       "1                     ne_patriots      1  \n",
       "2                         la_rams      0  \n",
       "3                         la_rams      0  \n",
       "4                         la_rams      0  "
      ]
     },
     "execution_count": 62,
     "metadata": {},
     "output_type": "execute_result"
    }
   ],
   "source": [
    "labeled.head() # label 1: ne_patriots"
   ]
  },
  {
   "cell_type": "code",
   "execution_count": 54,
   "metadata": {},
   "outputs": [],
   "source": [
    "precision_check = labeled"
   ]
  },
  {
   "cell_type": "code",
   "execution_count": 55,
   "metadata": {},
   "outputs": [],
   "source": [
    "precision_check.loc[:, 'user_name'] = precision_check.user_name.str.lower()"
   ]
  },
  {
   "cell_type": "code",
   "execution_count": 56,
   "metadata": {},
   "outputs": [
    {
     "data": {
      "text/html": [
       "<div>\n",
       "<style scoped>\n",
       "    .dataframe tbody tr th:only-of-type {\n",
       "        vertical-align: middle;\n",
       "    }\n",
       "\n",
       "    .dataframe tbody tr th {\n",
       "        vertical-align: top;\n",
       "    }\n",
       "\n",
       "    .dataframe thead th {\n",
       "        text-align: right;\n",
       "    }\n",
       "</style>\n",
       "<table border=\"1\" class=\"dataframe\">\n",
       "  <thead>\n",
       "    <tr style=\"text-align: right;\">\n",
       "      <th></th>\n",
       "      <th>user_name</th>\n",
       "      <th>tweet_text_full</th>\n",
       "      <th>team_affiliation_superfollowers</th>\n",
       "      <th>label</th>\n",
       "    </tr>\n",
       "  </thead>\n",
       "  <tbody>\n",
       "    <tr>\n",
       "      <th>0</th>\n",
       "      <td>lauren</td>\n",
       "      <td>RT @OfcrMatt: Who wants some free swag?\\r\\n\\r\\...</td>\n",
       "      <td>la_rams</td>\n",
       "      <td>0</td>\n",
       "    </tr>\n",
       "    <tr>\n",
       "      <th>1</th>\n",
       "      <td>options owl</td>\n",
       "      <td>RT @NFL_Memes: Still more exciting than watchi...</td>\n",
       "      <td>ne_patriots</td>\n",
       "      <td>1</td>\n",
       "    </tr>\n",
       "    <tr>\n",
       "      <th>2</th>\n",
       "      <td>ra’s al ghul ὓ1</td>\n",
       "      <td>RT @P2: Super Bowl commercial debut. Such a bl...</td>\n",
       "      <td>la_rams</td>\n",
       "      <td>0</td>\n",
       "    </tr>\n",
       "    <tr>\n",
       "      <th>3</th>\n",
       "      <td>ra’s al ghul ὓ1</td>\n",
       "      <td>RT @MoveTheSticks: If NE wins, Edelman is the ...</td>\n",
       "      <td>la_rams</td>\n",
       "      <td>0</td>\n",
       "    </tr>\n",
       "    <tr>\n",
       "      <th>4</th>\n",
       "      <td>ra’s al ghul ὓ1</td>\n",
       "      <td>RT @espn: INTERCEPTION!\\r\\n\\r\\nThe Patriots ar...</td>\n",
       "      <td>la_rams</td>\n",
       "      <td>0</td>\n",
       "    </tr>\n",
       "  </tbody>\n",
       "</table>\n",
       "</div>"
      ],
      "text/plain": [
       "         user_name                                    tweet_text_full  \\\n",
       "0           lauren  RT @OfcrMatt: Who wants some free swag?\\r\\n\\r\\...   \n",
       "1      options owl  RT @NFL_Memes: Still more exciting than watchi...   \n",
       "2  ra’s al ghul ὓ1  RT @P2: Super Bowl commercial debut. Such a bl...   \n",
       "3  ra’s al ghul ὓ1  RT @MoveTheSticks: If NE wins, Edelman is the ...   \n",
       "4  ra’s al ghul ὓ1  RT @espn: INTERCEPTION!\\r\\n\\r\\nThe Patriots ar...   \n",
       "\n",
       "  team_affiliation_superfollowers  label  \n",
       "0                         la_rams      0  \n",
       "1                     ne_patriots      1  \n",
       "2                         la_rams      0  \n",
       "3                         la_rams      0  \n",
       "4                         la_rams      0  "
      ]
     },
     "execution_count": 56,
     "metadata": {},
     "output_type": "execute_result"
    }
   ],
   "source": [
    "precision_check.head()"
   ]
  },
  {
   "cell_type": "code",
   "execution_count": 92,
   "metadata": {},
   "outputs": [],
   "source": [
    "precision_check['classified'] = precision_check['user_name'].apply(lambda x: 'ne_patriots' if x in classified_list else 'NULL')"
   ]
  },
  {
   "cell_type": "code",
   "execution_count": 94,
   "metadata": {},
   "outputs": [
    {
     "data": {
      "text/html": [
       "<div>\n",
       "<style scoped>\n",
       "    .dataframe tbody tr th:only-of-type {\n",
       "        vertical-align: middle;\n",
       "    }\n",
       "\n",
       "    .dataframe tbody tr th {\n",
       "        vertical-align: top;\n",
       "    }\n",
       "\n",
       "    .dataframe thead th {\n",
       "        text-align: right;\n",
       "    }\n",
       "</style>\n",
       "<table border=\"1\" class=\"dataframe\">\n",
       "  <thead>\n",
       "    <tr style=\"text-align: right;\">\n",
       "      <th></th>\n",
       "      <th>user_name</th>\n",
       "      <th>tweet_text_full</th>\n",
       "      <th>team_affiliation_superfollowers</th>\n",
       "      <th>label</th>\n",
       "      <th>classified</th>\n",
       "    </tr>\n",
       "  </thead>\n",
       "  <tbody>\n",
       "    <tr>\n",
       "      <th>0</th>\n",
       "      <td>lauren</td>\n",
       "      <td>RT @OfcrMatt: Who wants some free swag?\\r\\n\\r\\...</td>\n",
       "      <td>la_rams</td>\n",
       "      <td>0</td>\n",
       "      <td>ne_patriots</td>\n",
       "    </tr>\n",
       "    <tr>\n",
       "      <th>1</th>\n",
       "      <td>options owl</td>\n",
       "      <td>RT @NFL_Memes: Still more exciting than watchi...</td>\n",
       "      <td>ne_patriots</td>\n",
       "      <td>1</td>\n",
       "      <td>NULL</td>\n",
       "    </tr>\n",
       "    <tr>\n",
       "      <th>2</th>\n",
       "      <td>ra’s al ghul ὓ1</td>\n",
       "      <td>RT @P2: Super Bowl commercial debut. Such a bl...</td>\n",
       "      <td>la_rams</td>\n",
       "      <td>0</td>\n",
       "      <td>NULL</td>\n",
       "    </tr>\n",
       "    <tr>\n",
       "      <th>3</th>\n",
       "      <td>ra’s al ghul ὓ1</td>\n",
       "      <td>RT @MoveTheSticks: If NE wins, Edelman is the ...</td>\n",
       "      <td>la_rams</td>\n",
       "      <td>0</td>\n",
       "      <td>NULL</td>\n",
       "    </tr>\n",
       "    <tr>\n",
       "      <th>4</th>\n",
       "      <td>ra’s al ghul ὓ1</td>\n",
       "      <td>RT @espn: INTERCEPTION!\\r\\n\\r\\nThe Patriots ar...</td>\n",
       "      <td>la_rams</td>\n",
       "      <td>0</td>\n",
       "      <td>NULL</td>\n",
       "    </tr>\n",
       "  </tbody>\n",
       "</table>\n",
       "</div>"
      ],
      "text/plain": [
       "         user_name                                    tweet_text_full  \\\n",
       "0           lauren  RT @OfcrMatt: Who wants some free swag?\\r\\n\\r\\...   \n",
       "1      options owl  RT @NFL_Memes: Still more exciting than watchi...   \n",
       "2  ra’s al ghul ὓ1  RT @P2: Super Bowl commercial debut. Such a bl...   \n",
       "3  ra’s al ghul ὓ1  RT @MoveTheSticks: If NE wins, Edelman is the ...   \n",
       "4  ra’s al ghul ὓ1  RT @espn: INTERCEPTION!\\r\\n\\r\\nThe Patriots ar...   \n",
       "\n",
       "  team_affiliation_superfollowers  label   classified  \n",
       "0                         la_rams      0  ne_patriots  \n",
       "1                     ne_patriots      1         NULL  \n",
       "2                         la_rams      0         NULL  \n",
       "3                         la_rams      0         NULL  \n",
       "4                         la_rams      0         NULL  "
      ]
     },
     "execution_count": 94,
     "metadata": {},
     "output_type": "execute_result"
    }
   ],
   "source": [
    "precision_check.head()"
   ]
  },
  {
   "cell_type": "code",
   "execution_count": 97,
   "metadata": {},
   "outputs": [],
   "source": [
    "precision_check['precision']=np.where(precision_check['team_affiliation_superfollowers']==\n",
    "                                     precision_check['classified'], 'true', np.nan)"
   ]
  },
  {
   "cell_type": "code",
   "execution_count": 99,
   "metadata": {},
   "outputs": [
    {
     "data": {
      "text/html": [
       "<div>\n",
       "<style scoped>\n",
       "    .dataframe tbody tr th:only-of-type {\n",
       "        vertical-align: middle;\n",
       "    }\n",
       "\n",
       "    .dataframe tbody tr th {\n",
       "        vertical-align: top;\n",
       "    }\n",
       "\n",
       "    .dataframe thead th {\n",
       "        text-align: right;\n",
       "    }\n",
       "</style>\n",
       "<table border=\"1\" class=\"dataframe\">\n",
       "  <thead>\n",
       "    <tr style=\"text-align: right;\">\n",
       "      <th></th>\n",
       "      <th>user_name</th>\n",
       "      <th>tweet_text_full</th>\n",
       "      <th>team_affiliation_superfollowers</th>\n",
       "      <th>label</th>\n",
       "      <th>classified</th>\n",
       "      <th>precision</th>\n",
       "    </tr>\n",
       "  </thead>\n",
       "  <tbody>\n",
       "    <tr>\n",
       "      <th>142120</th>\n",
       "      <td>¡no me toques los cojones!</td>\n",
       "      <td>RT @StencilSupremo: 2 years ago I made the epi...</td>\n",
       "      <td>ne_patriots</td>\n",
       "      <td>1</td>\n",
       "      <td>ne_patriots</td>\n",
       "      <td>true</td>\n",
       "    </tr>\n",
       "    <tr>\n",
       "      <th>142121</th>\n",
       "      <td>¡no me toques los cojones!</td>\n",
       "      <td>We got ourselves a 3 points game that could’ve...</td>\n",
       "      <td>ne_patriots</td>\n",
       "      <td>1</td>\n",
       "      <td>ne_patriots</td>\n",
       "      <td>true</td>\n",
       "    </tr>\n",
       "    <tr>\n",
       "      <th>142122</th>\n",
       "      <td>jose</td>\n",
       "      <td>RT @Angel_OG: Worst super bowl I’ve seen</td>\n",
       "      <td>ne_patriots</td>\n",
       "      <td>1</td>\n",
       "      <td>ne_patriots</td>\n",
       "      <td>true</td>\n",
       "    </tr>\n",
       "    <tr>\n",
       "      <th>142123</th>\n",
       "      <td>devaughn.hill</td>\n",
       "      <td>RT @TheJWittz: Okay #SuperBowl Halftime ... Yo...</td>\n",
       "      <td>la_rams</td>\n",
       "      <td>0</td>\n",
       "      <td>NULL</td>\n",
       "      <td>nan</td>\n",
       "    </tr>\n",
       "    <tr>\n",
       "      <th>142124</th>\n",
       "      <td>aust in space</td>\n",
       "      <td>RT @DanRather: This Super Bowl will be memorab...</td>\n",
       "      <td>ne_patriots</td>\n",
       "      <td>1</td>\n",
       "      <td>NULL</td>\n",
       "      <td>nan</td>\n",
       "    </tr>\n",
       "  </tbody>\n",
       "</table>\n",
       "</div>"
      ],
      "text/plain": [
       "                         user_name  \\\n",
       "142120  ¡no me toques los cojones!   \n",
       "142121  ¡no me toques los cojones!   \n",
       "142122                        jose   \n",
       "142123               devaughn.hill   \n",
       "142124               aust in space   \n",
       "\n",
       "                                          tweet_text_full  \\\n",
       "142120  RT @StencilSupremo: 2 years ago I made the epi...   \n",
       "142121  We got ourselves a 3 points game that could’ve...   \n",
       "142122           RT @Angel_OG: Worst super bowl I’ve seen   \n",
       "142123  RT @TheJWittz: Okay #SuperBowl Halftime ... Yo...   \n",
       "142124  RT @DanRather: This Super Bowl will be memorab...   \n",
       "\n",
       "       team_affiliation_superfollowers  label   classified precision  \n",
       "142120                     ne_patriots      1  ne_patriots      true  \n",
       "142121                     ne_patriots      1  ne_patriots      true  \n",
       "142122                     ne_patriots      1  ne_patriots      true  \n",
       "142123                         la_rams      0         NULL       nan  \n",
       "142124                     ne_patriots      1         NULL       nan  "
      ]
     },
     "execution_count": 99,
     "metadata": {},
     "output_type": "execute_result"
    }
   ],
   "source": [
    "precision_check.tail()"
   ]
  },
  {
   "cell_type": "code",
   "execution_count": 101,
   "metadata": {},
   "outputs": [
    {
     "data": {
      "text/plain": [
       "nan     123670\n",
       "true     18455\n",
       "Name: precision, dtype: int64"
      ]
     },
     "execution_count": 101,
     "metadata": {},
     "output_type": "execute_result"
    }
   ],
   "source": [
    "precision_check['precision'].value_counts()"
   ]
  },
  {
   "cell_type": "code",
   "execution_count": null,
   "metadata": {},
   "outputs": [],
   "source": [
    "# precision: 18455/22195 = 83%"
   ]
  }
 ],
 "metadata": {
  "kernelspec": {
   "display_name": "dl",
   "language": "python",
   "name": "dl"
  },
  "language_info": {
   "codemirror_mode": {
    "name": "ipython",
    "version": 3
   },
   "file_extension": ".py",
   "mimetype": "text/x-python",
   "name": "python",
   "nbconvert_exporter": "python",
   "pygments_lexer": "ipython3",
   "version": "3.7.9"
  }
 },
 "nbformat": 4,
 "nbformat_minor": 4
}
